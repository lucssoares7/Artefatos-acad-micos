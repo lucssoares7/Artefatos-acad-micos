{
  "cells": [
    {
      "cell_type": "markdown",
      "metadata": {
        "id": "view-in-github",
        "colab_type": "text"
      },
      "source": [
        "<a href=\"https://colab.research.google.com/github/lucssoares7/Artefatos-acad-micos/blob/main/An%C3%A1lise_Algoritmos_de_Busca.ipynb\" target=\"_parent\"><img src=\"https://colab.research.google.com/assets/colab-badge.svg\" alt=\"Open In Colab\"/></a>"
      ]
    },
    {
      "cell_type": "markdown",
      "source": [
        "Criar Arq"
      ],
      "metadata": {
        "id": "AwYnwM7l-PFM"
      }
    },
    {
      "cell_type": "code",
      "execution_count": 34,
      "metadata": {
        "id": "9NDal58xAU4Q"
      },
      "outputs": [],
      "source": [
        "import os\n",
        "file_path = \"arrArq.txt\"\n",
        "\n",
        "if not os.path.exists(file_path):\n",
        "\n",
        "    with open(file_path, \"w+\") as arquivo:\n",
        "        pass\n",
        "else:\n",
        "\n",
        "    with open(file_path, \"a+\") as arquivo:\n",
        "\n",
        "        pass\n"
      ]
    },
    {
      "cell_type": "markdown",
      "metadata": {
        "id": "-A2J59Vodr0f"
      },
      "source": [
        "Gerador de Relatórios"
      ]
    },
    {
      "cell_type": "code",
      "execution_count": 14,
      "metadata": {
        "id": "MM5Lqfk7pbKT"
      },
      "outputs": [],
      "source": [
        "total_tempo_medio_seq = []\n",
        "import os\n",
        "try:\n",
        "    arq = 'total_tempo_medio_seq.txt'\n",
        "\n",
        "    with open(arq, \"r\") as arquivo:\n",
        "        for linha in arquivo:\n",
        "            elemento = float(linha.strip())\n",
        "            total_tempo_medio_seq.append(elemento)\n",
        "except FileNotFoundError:\n",
        "    print(\"O arquivo não existe. Criando um arquivo vazio...\")\n",
        "    with open(arq, \"w\") as arquivo:\n",
        "        pass  # Cria um arquivo vazio\n",
        "\n",
        "total_num_comp_buscaSeq = []\n",
        "try:\n",
        "    with open('total_num_comp_buscaSeq.txt', \"r\") as arquivo:\n",
        "        for linha in arquivo:\n",
        "            elemento = float(linha.strip())\n",
        "            total_num_comp_buscaSeq.append(elemento)\n",
        "\n",
        "except FileNotFoundError:\n",
        "    print(\"O arquivo não existe. Criando um arquivo vazio...\")\n",
        "    with open('total_num_comp_buscaSeq.txt', \"w\") as arquivo:\n",
        "        pass  # Cria um arquivo vazio\n",
        "\n",
        "tempo_ordenacao_seq = []\n",
        "try:\n",
        "    with open('tempo_ordenacao_seq.txt', \"r\") as arquivo:\n",
        "        for linha in arquivo:\n",
        "            elemento = str(linha.strip())\n",
        "            tempo_ordenacao_seq.append(elemento)\n",
        "except FileNotFoundError:\n",
        "    print(\"O arquivo não existe. Criando um arquivo vazio...\")\n",
        "    with open('tempo_ordenacao_seq.txt', \"w\") as arquivo:\n",
        "        pass  # Cria um arquivo vazio\n",
        "\n",
        "#print(tempo_ordenacao_seq)\n",
        "\n",
        "total_tempo_medio_SeqOrd = []\n",
        "try:\n",
        "    with open('total_tempo_medio_SeqOrd.txt', \"r\") as arquivo:\n",
        "        for linha in arquivo:\n",
        "            elemento = float(linha.strip())\n",
        "            total_tempo_medio_SeqOrd.append(elemento)\n",
        "\n",
        "except FileNotFoundError:\n",
        "    print(\"O arquivo não existe. Criando um arquivo vazio...\")\n",
        "    with open('total_tempo_medio_SeqOrd.txt', \"w\") as arquivo:\n",
        "        pass  # Cria um arquivo vazio\n",
        "\n",
        "total_num_comp_buscaSeqOrd = []\n",
        "try:\n",
        "    with open('total_num_comp_buscaSeqOrd.txt', \"r\") as arquivo:\n",
        "        for linha in arquivo:\n",
        "            elemento = float(linha.strip())\n",
        "            total_num_comp_buscaSeqOrd.append(elemento)\n",
        "\n",
        "except FileNotFoundError:\n",
        "    print(\"O arquivo não existe. Criando um arquivo vazio...\")\n",
        "    with open('total_num_comp_buscaSeqOrd.txt', \"w\") as arquivo:\n",
        "        pass  # Cria um arquivo vazio\n",
        "\n",
        "tempo_ordenacao_seqord = []\n",
        "try:\n",
        "    with open('tempo_ordenacao_seqord.txt', \"r\") as arquivo:\n",
        "        for linha in arquivo:\n",
        "            elemento = float(linha.strip())\n",
        "            tempo_ordenacao_seqord.append(elemento)\n",
        "\n",
        "except FileNotFoundError:\n",
        "    print(\"O arquivo não existe. Criando um arquivo vazio...\")\n",
        "    with open('tempo_ordenacao_seqord.txt', \"w\") as arquivo:\n",
        "        pass  # Cria um arquivo vazio\n",
        "\n",
        "total_tempo_medio_buscaJump = []\n",
        "try:\n",
        "    with open('total_tempo_medio_buscaJump.txt', \"r\") as arquivo:\n",
        "        for linha in arquivo:\n",
        "            elemento = float(linha.strip())\n",
        "            total_tempo_medio_buscaJump.append(elemento)\n",
        "\n",
        "except FileNotFoundError:\n",
        "    print(\"O arquivo não existe. Criando um arquivo vazio...\")\n",
        "    with open('total_tempo_medio_buscaJump.txt', \"w\") as arquivo:\n",
        "        pass  # Cria um arquivo vazio\n",
        "\n",
        "total_num_comp_buscaJump = []\n",
        "try:\n",
        "    with open('total_num_comp_buscaJump.txt', \"r\") as arquivo:\n",
        "        for linha in arquivo:\n",
        "            elemento = float(linha.strip())\n",
        "            total_num_comp_buscaJump.append(elemento)\n",
        "\n",
        "except FileNotFoundError:\n",
        "    print(\"O arquivo não existe. Criando um arquivo vazio...\")\n",
        "    with open('total_num_comp_buscaJump.txt', \"w\") as arquivo:\n",
        "        pass  # Cria um arquivo vazio\n",
        "\n",
        "tempo_ordenacao_jump = []\n",
        "try:\n",
        "    with open('tempo_ordenacao_jump.txt', \"r\") as arquivo:\n",
        "        for linha in arquivo:\n",
        "            elemento = float(linha.strip())\n",
        "            tempo_ordenacao_jump.append(elemento)\n",
        "\n",
        "except FileNotFoundError:\n",
        "    print(\"O arquivo não existe. Criando um arquivo vazio...\")\n",
        "    with open('tempo_ordenacao_jump.txt', \"w\") as arquivo:\n",
        "        pass  # Cria um arquivo vazio\n",
        "\n",
        "total_tempo_medio_buscaBin = []\n",
        "try:\n",
        "    with open('total_tempo_medio_buscaBin.txt', \"r\") as arquivo:\n",
        "        for linha in arquivo:\n",
        "            elemento = float(linha.strip())\n",
        "            total_tempo_medio_buscaBin.append(elemento)\n",
        "\n",
        "except FileNotFoundError:\n",
        "    print(\"O arquivo não existe. Criando um arquivo vazio...\")\n",
        "    with open('total_tempo_medio_buscaBin.txt', \"w\") as arquivo:\n",
        "        pass  # Cria um arquivo vazio\n",
        "\n",
        "total_num_comp_buscaBin = []\n",
        "try:\n",
        "    with open('total_num_comp_buscaBin.txt', \"r\") as arquivo:\n",
        "        for linha in arquivo:\n",
        "            elemento = float(linha.strip())\n",
        "            total_num_comp_buscaBin.append(elemento)\n",
        "\n",
        "except FileNotFoundError:\n",
        "    print(\"O arquivo não existe. Criando um arquivo vazio...\")\n",
        "    with open('total_num_comp_buscaBin.txt', \"w\") as arquivo:\n",
        "        pass  # Cria um arquivo vazio\n",
        "\n",
        "tempo_ordenacao_bin = []\n",
        "try:\n",
        "    with open('tempo_ordenacao_bin.txt', \"r\") as arquivo:\n",
        "        for linha in arquivo:\n",
        "            elemento = float(linha.strip())\n",
        "            tempo_ordenacao_bin.append(elemento)\n",
        "\n",
        "except FileNotFoundError:\n",
        "    print(\"O arquivo não existe. Criando um arquivo vazio...\")\n",
        "    with open('tempo_ordenacao_bin.txt', \"w\") as arquivo:\n",
        "        pass  # Cria um arquivo vazio"
      ]
    },
    {
      "cell_type": "code",
      "execution_count": 15,
      "metadata": {
        "id": "NqTwoJNpdy3c"
      },
      "outputs": [],
      "source": [
        "import pandas as pd\n",
        "import matplotlib.pyplot as plt\n",
        "import itertools\n",
        "\n",
        "#contador = 1\n",
        "def geradorRelatorio(tempo,num_comp,n_testes,tempo_ordenacao = None):\n",
        "  Casos = []\n",
        "  for c in n_testes:\n",
        "    caso = \"Caso \"+c\n",
        "    Casos.append(caso)\n",
        "  if tempo_ordenacao is None:\n",
        "    tabela = [Casos, tempo,num_comp]\n",
        "    lista_intercalada = list(itertools.chain.from_iterable(zip(*tabela)))\n",
        "    num_colunas = 3\n",
        "    num_linhas = len(lista_intercalada) // num_colunas  # Número de linhas (assumindo que são 6 colunas)\n",
        "\n",
        "    matriz = [lista_intercalada[i:i+num_colunas] for i in range(0, len(lista_intercalada), num_colunas)]\n",
        "    df = pd.DataFrame(matriz, columns=['Casos de Teste', 'Tempo Médio', 'Média de Comparações'])\n",
        "    print(df)\n",
        "  else:\n",
        "    tabela = [Casos, tempo,num_comp,tempo_ordenacao]\n",
        "    lista_intercalada = list(itertools.chain.from_iterable(zip(*tabela)))\n",
        "    num_colunas = 4\n",
        "    num_linhas = len(lista_intercalada) // num_colunas  # Número de linhas (assumindo que são 6 colunas)\n",
        "\n",
        "    matriz = [lista_intercalada[i:i+num_colunas] for i in range(0, len(lista_intercalada), num_colunas)]\n",
        "    df = pd.DataFrame(matriz, columns=['Casos de Teste', 'Tempo Médio', 'Média de Comparações','Tempo de Ordenação'])\n",
        "    print(df)\n",
        "\n",
        "\n",
        "\n",
        "  # Imprima a string LaTeX resultante\n",
        "  tabela_latex = df.to_latex(index=False)\n",
        "  print(tabela_latex)\n",
        "\n"
      ]
    },
    {
      "cell_type": "markdown",
      "metadata": {
        "id": "STAE7HQpaGVl"
      },
      "source": [
        "Carregar dados"
      ]
    },
    {
      "cell_type": "code",
      "execution_count": 35,
      "metadata": {
        "id": "3f-gPdD_aJRl",
        "colab": {
          "base_uri": "https://localhost:8080/"
        },
        "outputId": "84368de7-4017-42f6-8389-3a352ad5c6fe"
      },
      "outputs": [
        {
          "output_type": "stream",
          "name": "stdout",
          "text": [
            "Drive already mounted at /content/drive; to attempt to forcibly remount, call drive.mount(\"/content/drive\", force_remount=True).\n",
            "['50', '100', '200', '300', '500', '750', '1000', '1500', '2000', '3000', '5000', '7500', '10000', '12500', '15000', '20000', '25000', '30000', '40000', '50000', '75000', '100000', '125000', '150000', '175000', '200000', '225000', '250000']\n",
            "28\n",
            "28\n"
          ]
        }
      ],
      "source": [
        "import numpy as np\n",
        "from google.colab import drive\n",
        "Lista_vetores_construir = []\n",
        "Lista_vetores_consultar = []\n",
        "#importar os arquivos do drive\n",
        "drive.mount('/content/drive')\n",
        "file_path_Construir = '/content/drive/MyDrive/Casos de Teste/Construir'\n",
        "file_path_Consultar = '/content/drive/MyDrive/Casos de Teste/Consultar'\n",
        "\n",
        "#cria um vetor com os nomes dos arquivos txt\n",
        "#arrArq = ['50','100','200']\n",
        "#arrArq = ['300','500','750']\n",
        "#arrArq = ['1000','1500','2000']\n",
        "#arrArq = ['3000','5000','7500']\n",
        "#arrArq = ['10000','12500','15000']\n",
        "#arrArq = ['20000']\n",
        "#arrArq = ['25000']\n",
        "#arrArq = ['30000','40000','50000']\n",
        "#arrArq = ['75000']\n",
        "#arrArq = ['100000']#,'125000','150000','175000','200000','225000','250000']\n",
        "#arrArq = ['125000']\n",
        "#arrArq = ['250000']\n",
        "arrArq = ['50','100','200','300','500','750',\n",
        "          '1000','1500','2000',\n",
        "         '3000','5000','7500',\n",
        "         '10000','12500','15000','20000','25000','30000','40000',\n",
        "         '50000','75000','100000','125000','150000','175000','200000',\n",
        "         '225000','250000']\n",
        "\n",
        "'''\n",
        "        ,'100000']\n",
        "        ,'75000','100000','125000','150000']\n",
        "          ,'300','500','750',\n",
        "          '1000','1500','2000',\n",
        "         '3000','5000','7500',\n",
        "         '10000','12500','15000','20000','25000','30000','40000',\n",
        "         '50000','75000','100000','125000','150000','175000','200000',\n",
        "         '225000','250000']\n",
        "'''\n",
        "with open(\"arrArq.txt\", \"a\") as arquivo:\n",
        "    for elemento in arrArq:\n",
        "        arquivo.write(str(elemento) + \"\\n\")\n",
        "arrArq_copy = []\n",
        "arrArq_copy.clear()\n",
        "\n",
        "with open('arrArq.txt', \"r\") as arquivo:\n",
        "    for linha in arquivo:\n",
        "        elemento = str(linha.strip())\n",
        "        arrArq_copy.append(elemento)\n",
        "\n",
        "print(arrArq_copy)\n",
        "print(len(arrArq_copy))\n",
        "#arrArq = ['100']\n",
        "arrArq_ord = np.sort(arrArq)\n",
        "#print(len(vetor))\n",
        "#print(vetor)\n",
        "#vetor.sort()\n",
        "#carrega cada arquivo para o vetor arr e armazena numa lista\n",
        "for v in arrArq:\n",
        "    arr1 = np.loadtxt(file_path_Construir +\"/\"+str(v)+\".txt\")\n",
        "    #print(arr)\n",
        "    arr2 = np.loadtxt(file_path_Consultar +\"/\"+str(v)+\".txt\")\n",
        "    Lista_vetores_construir.append(arr1)\n",
        "    Lista_vetores_consultar.append(arr2)\n",
        "print(len(Lista_vetores_construir))\n"
      ]
    },
    {
      "cell_type": "code",
      "execution_count": null,
      "metadata": {
        "id": "H3bpa_jc1hGi"
      },
      "outputs": [],
      "source": []
    },
    {
      "cell_type": "markdown",
      "metadata": {
        "id": "Ep14DPtSX46g"
      },
      "source": [
        "Busca Sequencial"
      ]
    },
    {
      "cell_type": "code",
      "execution_count": 6,
      "metadata": {
        "id": "Szl-hkmIXv7J"
      },
      "outputs": [],
      "source": [
        "import timeit\n",
        "\n",
        "num_comp = 0\n",
        "tempo_buscaSeq = []\n",
        "num_comp_buscaSeq = []\n",
        "\n",
        "def buscaSeq(vet, chave):\n",
        "    pos = 0\n",
        "    for pos in range(0, len(vet),1):\n",
        "      #time.sleep(1)\n",
        "      global num_comp\n",
        "      num_comp = num_comp + 1\n",
        "      if(vet[pos]==chave):\n",
        "        return pos\n",
        "\n",
        "    return -1\n",
        "\n"
      ]
    },
    {
      "cell_type": "markdown",
      "metadata": {
        "id": "Q5hS_qZLcHLK"
      },
      "source": [
        "Consulta no vetor utilizando a busca sequencial\n",
        "\n",
        "\n",
        "\n"
      ]
    },
    {
      "cell_type": "code",
      "execution_count": 7,
      "metadata": {
        "id": "zkkGhckBcGv7"
      },
      "outputs": [],
      "source": [
        "import numpy as np\n",
        "import time\n",
        "import timeit\n",
        "#construção do vetor\n",
        "\n",
        "#tempo_ordenacao_seq = []\n",
        "for index in range(len(Lista_vetores_construir)):\n",
        "  #constrói o vetor arr\n",
        "  #chave = Lista_vetores_consultar[]\n",
        "  arr = Lista_vetores_construir[index]\n",
        "  chaves = Lista_vetores_consultar[index]\n",
        "  repeticoes = 10\n",
        "\n",
        "  tempo_ordenacao_seq.append('NA')\n",
        "  #print(len(chaves))\n",
        "  #print(arr)\n",
        "  #print(chaves)\n",
        "  tempo_execucao_mili = []\n",
        "  num_comp_buscaSeq = []\n",
        "\n",
        "  for chave in chaves:\n",
        "    tempo_execucao = (round(timeit.timeit(lambda: buscaSeq(arr, chave), number=repeticoes), 8))#tempo em segundos\n",
        "    #inicio = time.time()\n",
        "    #print(num_comp/10)\n",
        "    #buscaSeq(arr, chave)\n",
        "    #fim=time.time()\n",
        "    #tempo_execucao = round((fim-inicio),8)\n",
        "    num_comp_buscaSeq.append(num_comp/10)\n",
        "    num_comp = 0\n",
        "    tempo_execucao_mili.append(tempo_execucao * 1000)#segundos para milisegundos\n",
        "  #print((num_comp_buscaSeq))\n",
        "  media_comparacoes = sum(num_comp_buscaSeq)/(len(num_comp_buscaSeq))\n",
        "  #num_comp_buscaJump = []\n",
        "  #print(\"Numero médio comparacoes \", media_comparacoes)\n",
        "  total_num_comp_buscaSeq.append(round((media_comparacoes),2))\n",
        "  tempo_medio = round(sum(tempo_execucao_mili)/(len(tempo_execucao_mili)),4)#calculo da média arredondada em 4 casas decimais\n",
        "  #print(len(arr),tempo_medio)\n",
        "  total_tempo_medio_seq.append(tempo_medio)\n",
        "  tempo_medio = 0\n",
        "  #print(len(tempo_execucao_mili))"
      ]
    },
    {
      "cell_type": "markdown",
      "metadata": {
        "id": "MBFUmXEpgymB"
      },
      "source": [
        "Teste dos tempos da busca sequencial"
      ]
    },
    {
      "cell_type": "code",
      "execution_count": 8,
      "metadata": {
        "colab": {
          "base_uri": "https://localhost:8080/"
        },
        "id": "2HHRPoPUgyMP",
        "outputId": "1f31ab51-3084-485b-ee68-80773939e519"
      },
      "outputs": [
        {
          "output_type": "stream",
          "name": "stdout",
          "text": [
            "[36.0162]\n",
            "[16397.01]\n",
            "  Casos de Teste  Tempo Médio  Média de Comparações\n",
            "0    Caso 250000      36.0162              16397.01\n",
            "\\begin{tabular}{lrr}\n",
            "\\toprule\n",
            "Casos de Teste &  Tempo Médio &  Média de Comparações \\\\\n",
            "\\midrule\n",
            "   Caso 250000 &      36.0162 &              16397.01 \\\\\n",
            "\\bottomrule\n",
            "\\end{tabular}\n",
            "\n"
          ]
        },
        {
          "output_type": "stream",
          "name": "stderr",
          "text": [
            "<ipython-input-4-371b92b68692>:33: FutureWarning: In future versions `DataFrame.to_latex` is expected to utilise the base implementation of `Styler.to_latex` for formatting and rendering. The arguments signature may therefore change. It is recommended instead to use `DataFrame.style.to_latex` which also contains additional functionality.\n",
            "  tabela_latex = df.to_latex(index=False)\n"
          ]
        }
      ],
      "source": [
        "print(total_tempo_medio_seq)\n",
        "with open(\"total_tempo_medio_seq.txt\", \"w\") as arquivo:\n",
        "    for elemento in total_tempo_medio_seq:\n",
        "        arquivo.write(str(elemento) + \"\\n\")\n",
        "print(total_num_comp_buscaSeq)\n",
        "with open(\"total_num_comp_buscaSeq.txt\", \"w\") as arquivo:\n",
        "    for elemento in total_num_comp_buscaSeq:\n",
        "        arquivo.write(str(elemento) + \"\\n\")\n",
        "\n",
        "with open(\"tempo_ordenacao_seq.txt\", \"w\") as arquivo:\n",
        "    for elemento in tempo_ordenacao_seq:\n",
        "        arquivo.write(str(elemento) + \"\\n\")\n",
        "geradorRelatorio(total_tempo_medio_seq,total_num_comp_buscaSeq,arrArq_copy)"
      ]
    },
    {
      "cell_type": "markdown",
      "metadata": {
        "id": "CbBAYEXBX8dD"
      },
      "source": [
        "Busca Sequencial Ordenada"
      ]
    },
    {
      "cell_type": "code",
      "execution_count": 9,
      "metadata": {
        "id": "k30VUABXX_UW"
      },
      "outputs": [],
      "source": [
        "import timeit\n",
        "\n",
        "num_comp = 0\n",
        "tempo_buscaSeqOrd = []\n",
        "num_comp_buscaSeqOrd = []\n",
        "\n",
        "def buscaSeqOrd(vet, chave):\n",
        "    pos = 0\n",
        "    for pos in range(0, len(vet),1):\n",
        "      #time.sleep(1)\n",
        "      global num_comp\n",
        "      num_comp = num_comp + 1\n",
        "      if(vet[pos]==chave):\n",
        "        return pos\n",
        "\n",
        "    return -1\n"
      ]
    },
    {
      "cell_type": "markdown",
      "metadata": {
        "id": "nbXRIzx0hgtm"
      },
      "source": [
        "Consulta no vetor utilizando a busca sequencial ordenada"
      ]
    },
    {
      "cell_type": "code",
      "execution_count": 10,
      "metadata": {
        "id": "ETG-pWwFhlII"
      },
      "outputs": [],
      "source": [
        "import numpy as np\n",
        "import time\n",
        "import timeit\n",
        "#construção do vetor\n",
        "\n",
        "#tempo_ordenacao_seqord = []\n",
        "num_comp = 0\n",
        "for index in range(len(Lista_vetores_construir)):\n",
        "  #constrói o vetor arr\n",
        "  #chave = Lista_vetores_consultar[]\n",
        "  arr = Lista_vetores_construir[index]\n",
        "  #ordenar\n",
        "  inicio = time.time()\n",
        "  arr.sort()\n",
        "  fim = time.time()\n",
        "  tempo_ordenacao_seqord.append((fim-inicio)*1000)\n",
        "  chaves = Lista_vetores_consultar[index]\n",
        "  repeticoes = 10\n",
        "  #print(len(chaves))\n",
        "  #print(arr)\n",
        "  #print(chaves)\n",
        "  tempo_execucao_mili = []\n",
        "  num_comp_buscaSeqOrd = []\n",
        "\n",
        "  for chave in chaves:\n",
        "    tempo_execucao = (round(timeit.timeit(lambda: buscaSeqOrd(arr, chave), number=repeticoes), 8))#tempo em segundos\n",
        "    #print(num_comp/10)\n",
        "    num_comp_buscaSeqOrd.append(num_comp/10)\n",
        "    num_comp = 0\n",
        "    tempo_execucao_mili.append(tempo_execucao * 1000)#segundos para milisegundos\n",
        "  #print(num_comp_buscaSeqOrd)\n",
        "  media_comparacoes = sum(num_comp_buscaSeqOrd)/(len(num_comp_buscaSeqOrd))\n",
        "  #num_comp_buscaJump = []\n",
        "  #print(\"Numero médio comparacoes \", media_comparacoes)\n",
        "  total_num_comp_buscaSeqOrd.append(round((media_comparacoes),2))\n",
        "  tempo_medio = round(sum(tempo_execucao_mili)/(len(tempo_execucao_mili)),4)#calculo da média arredondada em 4 casas decimais\n",
        "  #print(len(arr),tempo_medio)\n",
        "  total_tempo_medio_SeqOrd.append(tempo_medio)\n",
        "  tempo_medio = 0\n",
        "  #print(len(tempo_execucao_mili))"
      ]
    },
    {
      "cell_type": "markdown",
      "metadata": {
        "id": "8yzzsLOPiFdk"
      },
      "source": [
        "Teste da busca sequencial ordenada"
      ]
    },
    {
      "cell_type": "code",
      "execution_count": 12,
      "metadata": {
        "id": "uv8FTsl_iHph",
        "colab": {
          "base_uri": "https://localhost:8080/"
        },
        "outputId": "0e1c6b2b-bd96-4dbf-aed4-3cb3b6fb6719"
      },
      "outputs": [
        {
          "output_type": "stream",
          "name": "stdout",
          "text": [
            "[36.6608]\n",
            "[16394.34]\n",
            "[5.93256950378418]\n",
            "  Casos de Teste  Tempo Médio  Média de Comparações  Tempo de Ordenação\n",
            "0    Caso 250000      36.6608              16394.34             5.93257\n",
            "\\begin{tabular}{lrrr}\n",
            "\\toprule\n",
            "Casos de Teste &  Tempo Médio &  Média de Comparações &  Tempo de Ordenação \\\\\n",
            "\\midrule\n",
            "   Caso 250000 &      36.6608 &              16394.34 &             5.93257 \\\\\n",
            "\\bottomrule\n",
            "\\end{tabular}\n",
            "\n"
          ]
        },
        {
          "output_type": "stream",
          "name": "stderr",
          "text": [
            "<ipython-input-4-371b92b68692>:33: FutureWarning: In future versions `DataFrame.to_latex` is expected to utilise the base implementation of `Styler.to_latex` for formatting and rendering. The arguments signature may therefore change. It is recommended instead to use `DataFrame.style.to_latex` which also contains additional functionality.\n",
            "  tabela_latex = df.to_latex(index=False)\n"
          ]
        }
      ],
      "source": [
        "print(total_tempo_medio_SeqOrd)\n",
        "with open(\"total_tempo_medio_SeqOrd.txt\", \"w\") as arquivo:\n",
        "    for elemento in total_tempo_medio_SeqOrd:\n",
        "        arquivo.write(str(elemento) + \"\\n\")\n",
        "\n",
        "print(total_num_comp_buscaSeqOrd)\n",
        "with open(\"total_num_comp_buscaSeqOrd.txt\", \"w\") as arquivo:\n",
        "    for elemento in total_num_comp_buscaSeqOrd:\n",
        "        arquivo.write(str(elemento) + \"\\n\")\n",
        "print(tempo_ordenacao_seqord)\n",
        "with open(\"tempo_ordenacao_seqord.txt\", \"w\") as arquivo:\n",
        "    for elemento in tempo_ordenacao_seqord:\n",
        "        arquivo.write(str(elemento) + \"\\n\")\n",
        "geradorRelatorio(total_tempo_medio_SeqOrd,total_num_comp_buscaSeqOrd,arrArq_copy,tempo_ordenacao_seqord)"
      ]
    },
    {
      "cell_type": "markdown",
      "metadata": {
        "id": "jIUpR8sIX_8C"
      },
      "source": [
        "Busca Jump"
      ]
    },
    {
      "cell_type": "code",
      "execution_count": null,
      "metadata": {
        "id": "NJMSnCZ-YBWl"
      },
      "outputs": [],
      "source": [
        "import math\n",
        "import timeit\n",
        "import statistics\n",
        "num_comp = 0\n",
        "tempo_buscaJump = []\n",
        "num_comp_buscaJump = []\n",
        "def buscaJump(vet,chave):\n",
        "    n = len(vet)\n",
        "    size = int(math.sqrt(n))\n",
        "    left, right = 0, 0\n",
        "\n",
        "    while right < n and vet[right] < chave:\n",
        "        left = right\n",
        "        right = right+size\n",
        "\n",
        "    for i in range(left, min(right, n)):\n",
        "        global num_comp\n",
        "        num_comp = num_comp+1\n",
        "        if vet[i] == chave:\n",
        "            return i\n",
        "    return -1\n",
        "\n"
      ]
    },
    {
      "cell_type": "markdown",
      "metadata": {
        "id": "vcrw69lMimep"
      },
      "source": [
        "Consulta ao vetor utilizando Jump Search"
      ]
    },
    {
      "cell_type": "code",
      "execution_count": null,
      "metadata": {
        "id": "5fFIDqXNiscf"
      },
      "outputs": [],
      "source": [
        "import numpy as np\n",
        "import time\n",
        "import timeit\n",
        "#construção do vetor\n",
        "\n",
        "#tempo_ordenacao_jump = []\n",
        "num_comp = 0\n",
        "for index in range(len(Lista_vetores_construir)):\n",
        "  #constrói o vetor arr\n",
        "  #chave = Lista_vetores_consultar[]\n",
        "  arr = Lista_vetores_construir[index]\n",
        "  #ordenar\n",
        "  inicio = time.time()\n",
        "  arr.sort()\n",
        "  fim = time.time()\n",
        "  tempo_ordenacao_jump.append((fim-inicio)*1000)\n",
        "  chaves = Lista_vetores_consultar[index]\n",
        "  repeticoes = 10\n",
        "  #print(len(chaves))\n",
        "  #print(arr)\n",
        "  #print(chaves)\n",
        "  tempo_execucao_mili = []\n",
        "  num_comp_buscaJump = []\n",
        "\n",
        "  for chave in chaves:\n",
        "    tempo_execucao = (round(timeit.timeit(lambda: buscaJump(arr, chave), number=repeticoes), 8))#tempo em segundos\n",
        "    #print(num_comp)\n",
        "    num_comp_buscaJump.append(num_comp/10)\n",
        "    num_comp = 0\n",
        "    tempo_execucao_mili.append(tempo_execucao * 1000)#segundos para milisegundos\n",
        "  #print(len(num_comp_buscaSeq))\n",
        "  media_comparacoes = sum(num_comp_buscaJump)/(len(num_comp_buscaJump))\n",
        "  #num_comp_buscaJump = []\n",
        "  #print(\"Numero médio comparacoes \", media_comparacoes)\n",
        "  total_num_comp_buscaJump.append(round((media_comparacoes),2))\n",
        "  tempo_medio = round(sum(tempo_execucao_mili)/(len(tempo_execucao_mili)),4)#calculo da média arredondada em 4 casas decimais\n",
        "  #print(len(arr),tempo_medio)\n",
        "  total_tempo_medio_buscaJump.append(tempo_medio)\n",
        "  tempo_medio = 0\n",
        "  #print(len(tempo_execucao_mili))"
      ]
    },
    {
      "cell_type": "code",
      "execution_count": null,
      "metadata": {
        "colab": {
          "base_uri": "https://localhost:8080/"
        },
        "id": "qcZkI5Gai-9k",
        "outputId": "f2420380-af0e-4d24-cc06-2d01589002c2"
      },
      "outputs": [
        {
          "output_type": "stream",
          "name": "stdout",
          "text": [
            "[0.0324, 0.07, 0.0623, 0.064, 0.0724, 0.0951, 0.1125, 0.1247, 0.1406, 0.1654, 0.2086, 0.2489, 0.2901, 0.4768, 0.3495, 0.5806, 0.4797, 0.4466, 0.4774, 0.472, 0.5616, 0.589, 0.6255, 0.6441, 0.7029, 0.7072, 0.7795, 0.7888, 0.8357]\n",
            "[5.88, 7.89, 11.53, 13.17, 17.16, 20.54, 23.87, 28.51, 32.98, 39.94, 51.63, 62.79, 70.32, 77.84, 89.86, 98.56, 98.52, 95.22, 101.66, 113.25, 137.99, 159.82, 159.82, 177.53, 194.75, 209.84, 223.86, 237.96, 250.65]\n",
            "[0.024, 0.023, 0.04, 0.02, 0.017, 0.021, 1.434, 0.033, 0.036, 1.283, 0.073, 0.102, 0.173, 0.296, 0.221, 0.446, 0.47087669372558594, 0.46896934509277344, 0.408172607421875, 0.5314350128173828, 3.802776336669922, 3.304719924926758, 4.179716110229492, 3.537893295288086, 3.9021968841552734, 5.714654922485352, 4.499673843383789, 6.846427917480469, 7.028818130493164]\n",
            "   Casos de Teste  Tempo Médio  Média de Comparações  Tempo de Ordenação\n",
            "0         Caso 50       0.0324                  5.88            0.024000\n",
            "1        Caso 100       0.0700                  7.89            0.023000\n",
            "2        Caso 200       0.0623                 11.53            0.040000\n",
            "3        Caso 300       0.0640                 13.17            0.020000\n",
            "4        Caso 500       0.0724                 17.16            0.017000\n",
            "5        Caso 750       0.0951                 20.54            0.021000\n",
            "6       Caso 1000       0.1125                 23.87            1.434000\n",
            "7       Caso 1500       0.1247                 28.51            0.033000\n",
            "8       Caso 2000       0.1406                 32.98            0.036000\n",
            "9       Caso 3000       0.1654                 39.94            1.283000\n",
            "10      Caso 5000       0.2086                 51.63            0.073000\n",
            "11      Caso 7500       0.2489                 62.79            0.102000\n",
            "12     Caso 10000       0.2901                 70.32            0.173000\n",
            "13     Caso 12500       0.4768                 77.84            0.296000\n",
            "14     Caso 15000       0.3495                 89.86            0.221000\n",
            "15     Caso 20000       0.5806                 98.56            0.446000\n",
            "16     Caso 25000       0.4797                 98.52            0.470877\n",
            "17     Caso 30000       0.4466                 95.22            0.468969\n",
            "18     Caso 40000       0.4774                101.66            0.408173\n",
            "19     Caso 50000       0.4720                113.25            0.531435\n",
            "20     Caso 75000       0.5616                137.99            3.802776\n",
            "21    Caso 100000       0.5890                159.82            3.304720\n",
            "22    Caso 100000       0.6255                159.82            4.179716\n",
            "23    Caso 125000       0.6441                177.53            3.537893\n",
            "24    Caso 150000       0.7029                194.75            3.902197\n",
            "25    Caso 175000       0.7072                209.84            5.714655\n",
            "26    Caso 200000       0.7795                223.86            4.499674\n",
            "27    Caso 225000       0.7888                237.96            6.846428\n",
            "28    Caso 250000       0.8357                250.65            7.028818\n",
            "\\begin{tabular}{lrrr}\n",
            "\\toprule\n",
            "Casos de Teste &  Tempo Médio &  Média de Comparações &  Tempo de Ordenação \\\\\n",
            "\\midrule\n",
            "       Caso 50 &       0.0324 &                  5.88 &            0.024000 \\\\\n",
            "      Caso 100 &       0.0700 &                  7.89 &            0.023000 \\\\\n",
            "      Caso 200 &       0.0623 &                 11.53 &            0.040000 \\\\\n",
            "      Caso 300 &       0.0640 &                 13.17 &            0.020000 \\\\\n",
            "      Caso 500 &       0.0724 &                 17.16 &            0.017000 \\\\\n",
            "      Caso 750 &       0.0951 &                 20.54 &            0.021000 \\\\\n",
            "     Caso 1000 &       0.1125 &                 23.87 &            1.434000 \\\\\n",
            "     Caso 1500 &       0.1247 &                 28.51 &            0.033000 \\\\\n",
            "     Caso 2000 &       0.1406 &                 32.98 &            0.036000 \\\\\n",
            "     Caso 3000 &       0.1654 &                 39.94 &            1.283000 \\\\\n",
            "     Caso 5000 &       0.2086 &                 51.63 &            0.073000 \\\\\n",
            "     Caso 7500 &       0.2489 &                 62.79 &            0.102000 \\\\\n",
            "    Caso 10000 &       0.2901 &                 70.32 &            0.173000 \\\\\n",
            "    Caso 12500 &       0.4768 &                 77.84 &            0.296000 \\\\\n",
            "    Caso 15000 &       0.3495 &                 89.86 &            0.221000 \\\\\n",
            "    Caso 20000 &       0.5806 &                 98.56 &            0.446000 \\\\\n",
            "    Caso 25000 &       0.4797 &                 98.52 &            0.470877 \\\\\n",
            "    Caso 30000 &       0.4466 &                 95.22 &            0.468969 \\\\\n",
            "    Caso 40000 &       0.4774 &                101.66 &            0.408173 \\\\\n",
            "    Caso 50000 &       0.4720 &                113.25 &            0.531435 \\\\\n",
            "    Caso 75000 &       0.5616 &                137.99 &            3.802776 \\\\\n",
            "   Caso 100000 &       0.5890 &                159.82 &            3.304720 \\\\\n",
            "   Caso 100000 &       0.6255 &                159.82 &            4.179716 \\\\\n",
            "   Caso 125000 &       0.6441 &                177.53 &            3.537893 \\\\\n",
            "   Caso 150000 &       0.7029 &                194.75 &            3.902197 \\\\\n",
            "   Caso 175000 &       0.7072 &                209.84 &            5.714655 \\\\\n",
            "   Caso 200000 &       0.7795 &                223.86 &            4.499674 \\\\\n",
            "   Caso 225000 &       0.7888 &                237.96 &            6.846428 \\\\\n",
            "   Caso 250000 &       0.8357 &                250.65 &            7.028818 \\\\\n",
            "\\bottomrule\n",
            "\\end{tabular}\n",
            "\n"
          ]
        },
        {
          "output_type": "stream",
          "name": "stderr",
          "text": [
            "<ipython-input-83-371b92b68692>:33: FutureWarning: In future versions `DataFrame.to_latex` is expected to utilise the base implementation of `Styler.to_latex` for formatting and rendering. The arguments signature may therefore change. It is recommended instead to use `DataFrame.style.to_latex` which also contains additional functionality.\n",
            "  tabela_latex = df.to_latex(index=False)\n"
          ]
        }
      ],
      "source": [
        "print(total_tempo_medio_buscaJump)\n",
        "with open(\"total_tempo_medio_buscaJump.txt\", \"w\") as arquivo:\n",
        "    for elemento in total_tempo_medio_buscaJump:\n",
        "        arquivo.write(str(elemento) + \"\\n\")\n",
        "print(total_num_comp_buscaJump)\n",
        "with open(\"total_num_comp_buscaJump.txt\", \"w\") as arquivo:\n",
        "    for elemento in total_num_comp_buscaJump:\n",
        "        arquivo.write(str(elemento) + \"\\n\")\n",
        "\n",
        "print(tempo_ordenacao_jump)\n",
        "with open(\"tempo_ordenacao_jump.txt\", \"w\") as arquivo:\n",
        "    for elemento in tempo_ordenacao_jump:\n",
        "        arquivo.write(str(elemento) + \"\\n\")\n",
        "\n",
        "geradorRelatorio(total_tempo_medio_buscaJump,total_num_comp_buscaJump,arrArq_copy,tempo_ordenacao_jump)"
      ]
    },
    {
      "cell_type": "markdown",
      "metadata": {
        "id": "ji_IHEx1jCEY"
      },
      "source": [
        "Teste Busca Jump"
      ]
    },
    {
      "cell_type": "markdown",
      "metadata": {
        "id": "cqFSx9ozYDWR"
      },
      "source": [
        "Busca Binária"
      ]
    },
    {
      "cell_type": "code",
      "execution_count": null,
      "metadata": {
        "id": "FkuDEXFoYESq"
      },
      "outputs": [],
      "source": [
        "import math\n",
        "import timeit\n",
        "\n",
        "num_comp = 0\n",
        "tempo_BuscaBin = []\n",
        "num_comp_BuscaBin = []\n",
        "def buscaBin(vet,chave):\n",
        "  size = len(vet)\n",
        "  posIni=0\n",
        "  posFim=size-1\n",
        "  posMeio = 0\n",
        "  while(posIni <=posFim):\n",
        "    posMeio = int((posIni+posFim)/2)\n",
        "    global num_comp\n",
        "    num_comp = num_comp+1\n",
        "    if(vet[posMeio]==chave):\n",
        "      return posMeio\n",
        "    elif(vet[posMeio] > chave):\n",
        "      posFim = posMeio -1\n",
        "    else:\n",
        "      posIni = posMeio+1\n",
        "  return -1\n",
        "\n"
      ]
    },
    {
      "cell_type": "markdown",
      "metadata": {
        "id": "7W8qXiibjW07"
      },
      "source": [
        "Consulta Busca Binária"
      ]
    },
    {
      "cell_type": "code",
      "execution_count": null,
      "metadata": {
        "id": "wsdLejikjZ74"
      },
      "outputs": [],
      "source": [
        "import numpy as np\n",
        "import time\n",
        "import timeit\n",
        "#construção do vetor\n",
        "\n",
        "#empo_ordenacao_bin = []\n",
        "num_comp = 0\n",
        "for index in range(len(Lista_vetores_construir)):\n",
        "  #constrói o vetor arr\n",
        "  #chave = Lista_vetores_consultar[]\n",
        "  arr = Lista_vetores_construir[index]\n",
        "  #ordenar\n",
        "  inicio = time.time()\n",
        "  arr.sort()\n",
        "  fim = time.time()\n",
        "\n",
        "  tempo_ordenacao_bin.append((fim-inicio)*1000)\n",
        "  chaves = Lista_vetores_consultar[index]\n",
        "  repeticoes = 10\n",
        "  #print(len(chaves))\n",
        "  #print(arr)\n",
        "  #print(chaves)\n",
        "  tempo_execucao_mili = []\n",
        "  num_comp_BuscaBin = []\n",
        "\n",
        "  for chave in chaves:\n",
        "    tempo_execucao = (round(timeit.timeit(lambda: buscaBin(arr, chave), number=repeticoes), 8))#tempo em segundos\n",
        "    num_comp_BuscaBin.append(num_comp/10)\n",
        "    num_comp = 0\n",
        "    tempo_execucao_mili.append(tempo_execucao * 1000)#segundos para milisegundos\n",
        "  #print(len(num_comp_buscaSeq))\n",
        "  media_comparacoes = sum(num_comp_BuscaBin)/(len(num_comp_BuscaBin))\n",
        "  #num_comp_buscaJump = []\n",
        "  #print(\"Numero médio comparacoes \", media_comparacoes)\n",
        "  total_num_comp_buscaBin.append(round((media_comparacoes),2))\n",
        "  tempo_medio = round(sum(tempo_execucao_mili)/(len(tempo_execucao_mili)),4)#calculo da média arredondada em 4 casas decimais\n",
        "  #print(len(arr),tempo_medio)\n",
        "  total_tempo_medio_buscaBin.append(tempo_medio)\n",
        "  tempo_medio = 0\n",
        "  #print(len(tempo_execucao_mili))"
      ]
    },
    {
      "cell_type": "markdown",
      "metadata": {
        "id": "vSm_V54EjrMd"
      },
      "source": [
        "Teste Busca binária"
      ]
    },
    {
      "cell_type": "code",
      "execution_count": null,
      "metadata": {
        "id": "xIg0ucbajq1e",
        "colab": {
          "base_uri": "https://localhost:8080/"
        },
        "outputId": "fd1044d8-d7a1-4697-c819-8d6062a6c594"
      },
      "outputs": [
        {
          "output_type": "stream",
          "name": "stdout",
          "text": [
            "[0.0339, 0.0366, 0.0444, 0.0514, 0.0512, 0.0613, 0.0595, 0.0679, 0.0663, 0.0694, 0.0756, 0.0776, 0.0812, 0.1581, 0.112, 0.087, 0.1023, 0.0821, 0.1131, 0.0854, 0.1045, 0.1272, 0.1104, 0.1233, 0.1164, 0.1201, 0.1157, 0.1236, 0.129]\n",
            "[5.26, 6.33, 7.18, 7.73, 8.49, 9.13, 9.5, 10.08, 10.46, 11.1, 11.84, 12.38, 12.74, 13.07, 13.38, 13.74, 14.0, 14.35, 14.68, 13.91, 15.25, 15.69, 15.69, 15.95, 16.25, 16.5, 16.69, 16.83, 16.95]\n",
            "[0.021, 0.015, 0.014, 0.272, 0.018, 0.025, 0.155, 0.03, 0.118, 0.534, 0.06, 0.096, 0.199, 0.16, 2.563, 0.336, 0.7152557373046875, 0.44655799865722656, 0.4928112030029297, 0.4603862762451172, 2.257823944091797, 2.8166770935058594, 1.7249584197998047, 1.312255859375, 2.3016929626464844, 3.3884048461914062, 2.3987293243408203, 2.4881362915039062, 2.792835235595703]\n",
            "   Casos de Teste  Tempo Médio  Média de Comparações  Tempo de Ordenação\n",
            "0         Caso 50       0.0339                  5.26            0.021000\n",
            "1        Caso 100       0.0366                  6.33            0.015000\n",
            "2        Caso 200       0.0444                  7.18            0.014000\n",
            "3        Caso 300       0.0514                  7.73            0.272000\n",
            "4        Caso 500       0.0512                  8.49            0.018000\n",
            "5        Caso 750       0.0613                  9.13            0.025000\n",
            "6       Caso 1000       0.0595                  9.50            0.155000\n",
            "7       Caso 1500       0.0679                 10.08            0.030000\n",
            "8       Caso 2000       0.0663                 10.46            0.118000\n",
            "9       Caso 3000       0.0694                 11.10            0.534000\n",
            "10      Caso 5000       0.0756                 11.84            0.060000\n",
            "11      Caso 7500       0.0776                 12.38            0.096000\n",
            "12     Caso 10000       0.0812                 12.74            0.199000\n",
            "13     Caso 12500       0.1581                 13.07            0.160000\n",
            "14     Caso 15000       0.1120                 13.38            2.563000\n",
            "15     Caso 20000       0.0870                 13.74            0.336000\n",
            "16     Caso 25000       0.1023                 14.00            0.715256\n",
            "17     Caso 30000       0.0821                 14.35            0.446558\n",
            "18     Caso 40000       0.1131                 14.68            0.492811\n",
            "19     Caso 50000       0.0854                 13.91            0.460386\n",
            "20     Caso 75000       0.1045                 15.25            2.257824\n",
            "21    Caso 100000       0.1272                 15.69            2.816677\n",
            "22    Caso 100000       0.1104                 15.69            1.724958\n",
            "23    Caso 125000       0.1233                 15.95            1.312256\n",
            "24    Caso 150000       0.1164                 16.25            2.301693\n",
            "25    Caso 175000       0.1201                 16.50            3.388405\n",
            "26    Caso 200000       0.1157                 16.69            2.398729\n",
            "27    Caso 225000       0.1236                 16.83            2.488136\n",
            "28    Caso 250000       0.1290                 16.95            2.792835\n",
            "\\begin{tabular}{lrrr}\n",
            "\\toprule\n",
            "Casos de Teste &  Tempo Médio &  Média de Comparações &  Tempo de Ordenação \\\\\n",
            "\\midrule\n",
            "       Caso 50 &       0.0339 &                  5.26 &            0.021000 \\\\\n",
            "      Caso 100 &       0.0366 &                  6.33 &            0.015000 \\\\\n",
            "      Caso 200 &       0.0444 &                  7.18 &            0.014000 \\\\\n",
            "      Caso 300 &       0.0514 &                  7.73 &            0.272000 \\\\\n",
            "      Caso 500 &       0.0512 &                  8.49 &            0.018000 \\\\\n",
            "      Caso 750 &       0.0613 &                  9.13 &            0.025000 \\\\\n",
            "     Caso 1000 &       0.0595 &                  9.50 &            0.155000 \\\\\n",
            "     Caso 1500 &       0.0679 &                 10.08 &            0.030000 \\\\\n",
            "     Caso 2000 &       0.0663 &                 10.46 &            0.118000 \\\\\n",
            "     Caso 3000 &       0.0694 &                 11.10 &            0.534000 \\\\\n",
            "     Caso 5000 &       0.0756 &                 11.84 &            0.060000 \\\\\n",
            "     Caso 7500 &       0.0776 &                 12.38 &            0.096000 \\\\\n",
            "    Caso 10000 &       0.0812 &                 12.74 &            0.199000 \\\\\n",
            "    Caso 12500 &       0.1581 &                 13.07 &            0.160000 \\\\\n",
            "    Caso 15000 &       0.1120 &                 13.38 &            2.563000 \\\\\n",
            "    Caso 20000 &       0.0870 &                 13.74 &            0.336000 \\\\\n",
            "    Caso 25000 &       0.1023 &                 14.00 &            0.715256 \\\\\n",
            "    Caso 30000 &       0.0821 &                 14.35 &            0.446558 \\\\\n",
            "    Caso 40000 &       0.1131 &                 14.68 &            0.492811 \\\\\n",
            "    Caso 50000 &       0.0854 &                 13.91 &            0.460386 \\\\\n",
            "    Caso 75000 &       0.1045 &                 15.25 &            2.257824 \\\\\n",
            "   Caso 100000 &       0.1272 &                 15.69 &            2.816677 \\\\\n",
            "   Caso 100000 &       0.1104 &                 15.69 &            1.724958 \\\\\n",
            "   Caso 125000 &       0.1233 &                 15.95 &            1.312256 \\\\\n",
            "   Caso 150000 &       0.1164 &                 16.25 &            2.301693 \\\\\n",
            "   Caso 175000 &       0.1201 &                 16.50 &            3.388405 \\\\\n",
            "   Caso 200000 &       0.1157 &                 16.69 &            2.398729 \\\\\n",
            "   Caso 225000 &       0.1236 &                 16.83 &            2.488136 \\\\\n",
            "   Caso 250000 &       0.1290 &                 16.95 &            2.792835 \\\\\n",
            "\\bottomrule\n",
            "\\end{tabular}\n",
            "\n"
          ]
        },
        {
          "output_type": "stream",
          "name": "stderr",
          "text": [
            "<ipython-input-83-371b92b68692>:33: FutureWarning: In future versions `DataFrame.to_latex` is expected to utilise the base implementation of `Styler.to_latex` for formatting and rendering. The arguments signature may therefore change. It is recommended instead to use `DataFrame.style.to_latex` which also contains additional functionality.\n",
            "  tabela_latex = df.to_latex(index=False)\n"
          ]
        }
      ],
      "source": [
        "print(total_tempo_medio_buscaBin)\n",
        "with open(\"total_tempo_medio_buscaBin.txt\", \"w\") as arquivo:\n",
        "    for elemento in total_tempo_medio_buscaBin:\n",
        "        arquivo.write(str(elemento) + \"\\n\")\n",
        "print(total_num_comp_buscaBin)\n",
        "with open(\"total_num_comp_buscaBin.txt\", \"w\") as arquivo:\n",
        "    for elemento in total_num_comp_buscaBin:\n",
        "        arquivo.write(str(elemento) + \"\\n\")\n",
        "print(tempo_ordenacao_bin)\n",
        "with open(\"tempo_ordenacao_bin.txt\", \"w\") as arquivo:\n",
        "    for elemento in tempo_ordenacao_bin:\n",
        "        arquivo.write(str(elemento) + \"\\n\")\n",
        "\n",
        "geradorRelatorio(total_tempo_medio_buscaBin,total_num_comp_buscaBin,arrArq_copy,tempo_ordenacao_bin)"
      ]
    },
    {
      "cell_type": "markdown",
      "metadata": {
        "id": "dQ_Z59sDfVC_"
      },
      "source": [
        "gerar os gráficos"
      ]
    },
    {
      "cell_type": "markdown",
      "metadata": {
        "id": "wlieaQ-eZnX3"
      },
      "source": [
        "Gerador de gráficos"
      ]
    },
    {
      "cell_type": "code",
      "execution_count": 16,
      "metadata": {
        "id": "8lyM3ngiZmPN"
      },
      "outputs": [],
      "source": [
        "import pandas as pd\n",
        "import matplotlib.pyplot as plt\n",
        "\n",
        "def geradorGrafico_tempo(busca_sequencial,busca_sequencial_ordenada,busca_jump,busca_binaria,n_casos):\n",
        "    casos_de_teste = []\n",
        "    for c in n_casos:\n",
        "      caso = str(c)+\" \"\n",
        "      casos_de_teste.append(caso)\n",
        "\n",
        "    plt.figure(figsize=(10, 6))\n",
        "\n",
        "    plt.plot(casos_de_teste, busca_sequencial, marker='o', label='Busca Sequencial')\n",
        "    plt.plot(casos_de_teste, busca_sequencial_ordenada, marker='o', label='Busca Sequencial Ordenada')\n",
        "    plt.plot(casos_de_teste, busca_jump, marker='o', label='Busca Jump')\n",
        "    plt.plot(casos_de_teste, busca_binaria, marker='o', label='Busca Binária')\n",
        "\n",
        "    plt.title('Comparativo de Tempos de Busca')\n",
        "    plt.xlabel('Casos de Teste')\n",
        "    plt.ylabel('Tempo Médio (milosegundos)')\n",
        "    plt.legend()\n",
        "    plt.grid(True)\n",
        "\n",
        "    plt.show()"
      ]
    },
    {
      "cell_type": "code",
      "execution_count": 17,
      "metadata": {
        "id": "Gz_DoVkWnbjE"
      },
      "outputs": [],
      "source": [
        "import pandas as pd\n",
        "import matplotlib.pyplot as plt\n",
        "\n",
        "def geradorGrafico_comp(busca_sequencial,busca_sequencial_ordenada,busca_jump,busca_binaria,n_casos):\n",
        "    casos_de_teste = []\n",
        "    for c in n_casos:\n",
        "      caso = str(c)+\" \"\n",
        "      casos_de_teste.append(caso)\n",
        "\n",
        "    plt.figure(figsize=(10, 6))\n",
        "\n",
        "    plt.plot(casos_de_teste, busca_sequencial, marker='o', label='Busca Sequencial')\n",
        "    plt.plot(casos_de_teste, busca_sequencial_ordenada, marker='o', label='Busca Sequencial Ordenada')\n",
        "    plt.plot(casos_de_teste, busca_jump, marker='o', label='Busca Jump')\n",
        "    plt.plot(casos_de_teste, busca_binaria, marker='o', label='Busca Binária')\n",
        "\n",
        "    plt.title('Comparativo de Número Médio de Comparações')\n",
        "    plt.xlabel('Casos de Teste')\n",
        "    plt.ylabel('Número Médio de Comparações')\n",
        "    plt.legend()\n",
        "    plt.grid(True)\n",
        "\n",
        "    plt.show()"
      ]
    },
    {
      "cell_type": "code",
      "execution_count": 36,
      "metadata": {
        "id": "YNNNfIW_fTBk",
        "colab": {
          "base_uri": "https://localhost:8080/",
          "height": 564
        },
        "outputId": "c33112ce-57f7-4db6-8eec-8363cb851039"
      },
      "outputs": [
        {
          "output_type": "stream",
          "name": "stdout",
          "text": [
            "28\n",
            "28\n",
            "28\n",
            "28\n",
            "28\n"
          ]
        },
        {
          "output_type": "display_data",
          "data": {
            "text/plain": [
              "<Figure size 1000x600 with 1 Axes>"
            ],
            "image/png": "[encoded data removed]"
          },
          "metadata": {}
        }
      ],
      "source": [
        "print(len(total_tempo_medio_seq))\n",
        "print(len(total_tempo_medio_SeqOrd))\n",
        "print(len(total_tempo_medio_buscaJump))\n",
        "print(len(total_tempo_medio_buscaBin))\n",
        "print(len(arrArq_copy))\n",
        "geradorGrafico_tempo(total_tempo_medio_seq,total_tempo_medio_SeqOrd,total_tempo_medio_buscaJump,total_tempo_medio_buscaBin,arrArq_copy)"
      ]
    },
    {
      "cell_type": "code",
      "execution_count": 37,
      "metadata": {
        "id": "70tpIZbJkW3O",
        "colab": {
          "base_uri": "https://localhost:8080/",
          "height": 554
        },
        "outputId": "adeb29f4-7dd9-4be6-f79c-51d7cf9a9237"
      },
      "outputs": [
        {
          "output_type": "stream",
          "name": "stdout",
          "text": [
            "[38.56, 74.46, 152.19, 225.3, 364.6, 554.0, 736.18, 1106.76, 1463.64, 2163.2, 3555.44, 5238.57, 6914.45, 8041.32, 10386.22, 13884.0, 15503.72, 16269.95, 16318.37, 16374.35, 16395.91, 16396.22, 16408.72, 16384.04, 16390.66, 16383.41, 16381.28, 16397.01]\n",
            "[37.2, 77.93, 150.35, 224.57, 373.1, 557.44, 756.42, 1124.77, 1475.06, 2175.07, 3662.28, 5437.1, 6932.33, 8688.11, 10934.96, 13887.88, 15500.81, 16318.42, 16354.67, 16347.24, 16310.45, 16391.47, 16377.25, 16359.27, 16354.97, 16388.9, 16386.76, 16394.34]\n",
            "[5.88, 7.89, 11.53, 13.17, 17.16, 20.54, 23.87, 28.51, 32.98, 39.94, 51.63, 62.79, 70.32, 77.84, 89.86, 98.56, 98.52, 95.22, 101.66, 113.25, 137.99, 159.82, 177.53, 194.75, 209.84, 223.86, 237.96, 250.65]\n",
            "[5.26, 6.33, 7.18, 7.73, 8.49, 9.13, 9.5, 10.08, 10.46, 11.1, 11.84, 12.38, 12.74, 13.07, 13.38, 13.74, 14.0, 14.35, 14.68, 13.91, 15.25, 15.69, 15.95, 16.25, 16.5, 16.69, 16.83, 16.95]\n"
          ]
        },
        {
          "output_type": "display_data",
          "data": {
            "text/plain": [
              "<Figure size 1000x600 with 1 Axes>"
            ],
            "image/png": "[encoded data removed]"
          },
          "metadata": {}
        }
      ],
      "source": [
        "print((total_num_comp_buscaSeq))\n",
        "print((total_num_comp_buscaSeqOrd))\n",
        "print((total_num_comp_buscaJump))\n",
        "print((total_num_comp_buscaBin))\n",
        "#print(len(arrArq)\n",
        "geradorGrafico_comp(total_num_comp_buscaSeq,total_num_comp_buscaSeqOrd,total_num_comp_buscaJump,total_num_comp_buscaBin,arrArq_copy)\n"
      ]
    },
    {
      "cell_type": "markdown",
      "metadata": {
        "id": "7mcVLA6DpANV"
      },
      "source": [
        "Gerar tabela número de comparações"
      ]
    },
    {
      "cell_type": "code",
      "execution_count": 38,
      "metadata": {
        "id": "oowcsCJTpE3l"
      },
      "outputs": [],
      "source": [
        "import pandas as pd\n",
        "def geradorTabela_comp(n_casos,total_num_comp_buscaSeq,total_num_comp_buscaSeqOrd,total_num_comp_buscaJump,total_num_comp_buscaBin):\n",
        "    Casos = []\n",
        "    for c in n_casos:\n",
        "      caso = \"Caso \"+c\n",
        "      Casos.append(caso)\n",
        "    tabela = [Casos, total_num_comp_buscaSeq,total_num_comp_buscaSeqOrd,total_num_comp_buscaJump,total_num_comp_buscaBin]\n",
        "    lista_intercalada = list(itertools.chain.from_iterable(zip(*tabela)))\n",
        "    num_colunas = 5\n",
        "    num_linhas = len(lista_intercalada) // num_colunas\n",
        "\n",
        "    matriz = [lista_intercalada[i:i+num_colunas] for i in range(0, len(lista_intercalada), num_colunas)]\n",
        "    df = pd.DataFrame(matriz, columns=['Casos de Teste', 'Busca Sequencial', 'Busca Sequencial Ordenada','Busca Jump','Busca Binária'])\n",
        "    print(df)\n",
        "\n",
        "    tabela_latex = df.to_latex(index=False)\n",
        "    print(tabela_latex)"
      ]
    },
    {
      "cell_type": "code",
      "execution_count": 39,
      "metadata": {
        "id": "2Z0XC7RUo9zq",
        "colab": {
          "base_uri": "https://localhost:8080/"
        },
        "outputId": "a5f37d5d-6f13-44ee-87de-2443d08098ef"
      },
      "outputs": [
        {
          "output_type": "stream",
          "name": "stdout",
          "text": [
            "   Casos de Teste  Busca Sequencial  Busca Sequencial Ordenada  Busca Jump  \\\n",
            "0         Caso 50             38.56                      37.20        5.88   \n",
            "1        Caso 100             74.46                      77.93        7.89   \n",
            "2        Caso 200            152.19                     150.35       11.53   \n",
            "3        Caso 300            225.30                     224.57       13.17   \n",
            "4        Caso 500            364.60                     373.10       17.16   \n",
            "5        Caso 750            554.00                     557.44       20.54   \n",
            "6       Caso 1000            736.18                     756.42       23.87   \n",
            "7       Caso 1500           1106.76                    1124.77       28.51   \n",
            "8       Caso 2000           1463.64                    1475.06       32.98   \n",
            "9       Caso 3000           2163.20                    2175.07       39.94   \n",
            "10      Caso 5000           3555.44                    3662.28       51.63   \n",
            "11      Caso 7500           5238.57                    5437.10       62.79   \n",
            "12     Caso 10000           6914.45                    6932.33       70.32   \n",
            "13     Caso 12500           8041.32                    8688.11       77.84   \n",
            "14     Caso 15000          10386.22                   10934.96       89.86   \n",
            "15     Caso 20000          13884.00                   13887.88       98.56   \n",
            "16     Caso 25000          15503.72                   15500.81       98.52   \n",
            "17     Caso 30000          16269.95                   16318.42       95.22   \n",
            "18     Caso 40000          16318.37                   16354.67      101.66   \n",
            "19     Caso 50000          16374.35                   16347.24      113.25   \n",
            "20     Caso 75000          16395.91                   16310.45      137.99   \n",
            "21    Caso 100000          16396.22                   16391.47      159.82   \n",
            "22    Caso 125000          16408.72                   16377.25      177.53   \n",
            "23    Caso 150000          16384.04                   16359.27      194.75   \n",
            "24    Caso 175000          16390.66                   16354.97      209.84   \n",
            "25    Caso 200000          16383.41                   16388.90      223.86   \n",
            "26    Caso 225000          16381.28                   16386.76      237.96   \n",
            "27    Caso 250000          16397.01                   16394.34      250.65   \n",
            "\n",
            "    Busca Binária  \n",
            "0            5.26  \n",
            "1            6.33  \n",
            "2            7.18  \n",
            "3            7.73  \n",
            "4            8.49  \n",
            "5            9.13  \n",
            "6            9.50  \n",
            "7           10.08  \n",
            "8           10.46  \n",
            "9           11.10  \n",
            "10          11.84  \n",
            "11          12.38  \n",
            "12          12.74  \n",
            "13          13.07  \n",
            "14          13.38  \n",
            "15          13.74  \n",
            "16          14.00  \n",
            "17          14.35  \n",
            "18          14.68  \n",
            "19          13.91  \n",
            "20          15.25  \n",
            "21          15.69  \n",
            "22          15.95  \n",
            "23          16.25  \n",
            "24          16.50  \n",
            "25          16.69  \n",
            "26          16.83  \n",
            "27          16.95  \n",
            "\\begin{tabular}{lrrrr}\n",
            "\\toprule\n",
            "Casos de Teste &  Busca Sequencial &  Busca Sequencial Ordenada &  Busca Jump &  Busca Binária \\\\\n",
            "\\midrule\n",
            "       Caso 50 &             38.56 &                      37.20 &        5.88 &           5.26 \\\\\n",
            "      Caso 100 &             74.46 &                      77.93 &        7.89 &           6.33 \\\\\n",
            "      Caso 200 &            152.19 &                     150.35 &       11.53 &           7.18 \\\\\n",
            "      Caso 300 &            225.30 &                     224.57 &       13.17 &           7.73 \\\\\n",
            "      Caso 500 &            364.60 &                     373.10 &       17.16 &           8.49 \\\\\n",
            "      Caso 750 &            554.00 &                     557.44 &       20.54 &           9.13 \\\\\n",
            "     Caso 1000 &            736.18 &                     756.42 &       23.87 &           9.50 \\\\\n",
            "     Caso 1500 &           1106.76 &                    1124.77 &       28.51 &          10.08 \\\\\n",
            "     Caso 2000 &           1463.64 &                    1475.06 &       32.98 &          10.46 \\\\\n",
            "     Caso 3000 &           2163.20 &                    2175.07 &       39.94 &          11.10 \\\\\n",
            "     Caso 5000 &           3555.44 &                    3662.28 &       51.63 &          11.84 \\\\\n",
            "     Caso 7500 &           5238.57 &                    5437.10 &       62.79 &          12.38 \\\\\n",
            "    Caso 10000 &           6914.45 &                    6932.33 &       70.32 &          12.74 \\\\\n",
            "    Caso 12500 &           8041.32 &                    8688.11 &       77.84 &          13.07 \\\\\n",
            "    Caso 15000 &          10386.22 &                   10934.96 &       89.86 &          13.38 \\\\\n",
            "    Caso 20000 &          13884.00 &                   13887.88 &       98.56 &          13.74 \\\\\n",
            "    Caso 25000 &          15503.72 &                   15500.81 &       98.52 &          14.00 \\\\\n",
            "    Caso 30000 &          16269.95 &                   16318.42 &       95.22 &          14.35 \\\\\n",
            "    Caso 40000 &          16318.37 &                   16354.67 &      101.66 &          14.68 \\\\\n",
            "    Caso 50000 &          16374.35 &                   16347.24 &      113.25 &          13.91 \\\\\n",
            "    Caso 75000 &          16395.91 &                   16310.45 &      137.99 &          15.25 \\\\\n",
            "   Caso 100000 &          16396.22 &                   16391.47 &      159.82 &          15.69 \\\\\n",
            "   Caso 125000 &          16408.72 &                   16377.25 &      177.53 &          15.95 \\\\\n",
            "   Caso 150000 &          16384.04 &                   16359.27 &      194.75 &          16.25 \\\\\n",
            "   Caso 175000 &          16390.66 &                   16354.97 &      209.84 &          16.50 \\\\\n",
            "   Caso 200000 &          16383.41 &                   16388.90 &      223.86 &          16.69 \\\\\n",
            "   Caso 225000 &          16381.28 &                   16386.76 &      237.96 &          16.83 \\\\\n",
            "   Caso 250000 &          16397.01 &                   16394.34 &      250.65 &          16.95 \\\\\n",
            "\\bottomrule\n",
            "\\end{tabular}\n",
            "\n"
          ]
        },
        {
          "output_type": "stream",
          "name": "stderr",
          "text": [
            "<ipython-input-38-e94c95abab72>:16: FutureWarning: In future versions `DataFrame.to_latex` is expected to utilise the base implementation of `Styler.to_latex` for formatting and rendering. The arguments signature may therefore change. It is recommended instead to use `DataFrame.style.to_latex` which also contains additional functionality.\n",
            "  tabela_latex = df.to_latex(index=False)\n"
          ]
        }
      ],
      "source": [
        "geradorTabela_comp(arrArq_copy,total_num_comp_buscaSeq,total_num_comp_buscaSeqOrd,total_num_comp_buscaJump,total_num_comp_buscaBin)"
      ]
    },
    {
      "cell_type": "code",
      "execution_count": 40,
      "metadata": {
        "id": "h9Kek1WWr384"
      },
      "outputs": [],
      "source": [
        "import pandas as pd\n",
        "import numpy as np\n",
        "def geradorTabela_tempo(n_casos,total_tempo_medio_seq,total_tempo_medio_SeqOrd,total_tempo_medio_buscaJump,total_tempo_medio_buscaBin,tempo_ordenacao_seq,tempo_ordenacao_seqord,tempo_ordenacao_jump,tempo_ordenacao_bin):\n",
        "    tempo_ordenacao_seqord_round = []\n",
        "    for valor in tempo_ordenacao_seqord:\n",
        "      valor_arredondado = round(valor, 3)\n",
        "      tempo_ordenacao_seqord_round.append(valor_arredondado)\n",
        "\n",
        "    tempo_ordenacao_jump_round = []\n",
        "    for valor in tempo_ordenacao_jump:\n",
        "      valor_arredondado = round(valor, 3)\n",
        "      tempo_ordenacao_jump_round.append(valor_arredondado)\n",
        "\n",
        "    tempo_ordenacao_bin_round = []\n",
        "    for valor in tempo_ordenacao_bin:\n",
        "      valor_arredondado = round(valor, 3)\n",
        "      tempo_ordenacao_bin_round.append(valor_arredondado)\n",
        "\n",
        "    Casos = []\n",
        "    for c in n_casos:\n",
        "      caso = \"Caso \"+c\n",
        "      Casos.append(caso)\n",
        "    tabela = [Casos, total_tempo_medio_seq,tempo_ordenacao_seq,total_tempo_medio_SeqOrd,tempo_ordenacao_seqord_round,total_tempo_medio_buscaJump,tempo_ordenacao_jump_round,total_tempo_medio_buscaBin,tempo_ordenacao_bin_round]\n",
        "    lista_intercalada = list(itertools.chain.from_iterable(zip(*tabela)))\n",
        "    num_colunas = 9\n",
        "    num_linhas = len(lista_intercalada) // num_colunas\n",
        "    matriz = [lista_intercalada[i:i+num_colunas] for i in range(0, len(lista_intercalada), num_colunas)]\n",
        "    df = pd.DataFrame(matriz, columns=['Casos de Teste', 'Busca Sequencial', 'Ordenação', 'Busca Sequencial Ordenada','Ordenação','Busca Jump','Ordenação','Busca Binária','Ordenação'])\n",
        "    print(df)\n",
        "\n",
        "    tabela_latex = df.to_latex(index=False)\n",
        "    print(tabela_latex)"
      ]
    },
    {
      "cell_type": "code",
      "execution_count": 41,
      "metadata": {
        "id": "4tYJt702ulcj",
        "colab": {
          "base_uri": "https://localhost:8080/"
        },
        "outputId": "fb9552e0-3369-47cb-80b3-e9d26da34be2"
      },
      "outputs": [
        {
          "output_type": "stream",
          "name": "stdout",
          "text": [
            "['50', '100', '200', '300', '500', '750', '1000', '1500', '2000', '3000', '5000', '7500', '10000', '12500', '15000', '20000', '25000', '30000', '40000', '50000', '75000', '100000', '125000', '150000', '175000', '200000', '225000', '250000']\n",
            "[0.0808, 0.175, 0.3245, 1.2528, 1.8302, 1.6829, 1.7682, 2.626, 4.6095, 5.883, 10.7456, 15.5978, 20.2477, 23.4579, 30.3167, 40.9713, 42.9849, 43.6077, 43.6043, 43.6768, 45.3222, 45.1671, 36.3107, 21.3481, 35.3104, 36.7217, 36.6611, 36.0162]\n",
            "[0.1178, 0.2501, 0.3449, 0.5037, 0.8732, 1.3034, 1.7761, 2.6456, 4.6223, 5.9232, 11.0139, 15.9593, 20.0006, 25.4475, 32.0006, 41.0768, 42.89, 44.2533, 44.3015, 44.102, 46.2188, 47.6962, 36.9223, 22.0873, 35.8732, 36.5353, 36.4511, 36.6608]\n",
            "[0.0324, 0.07, 0.0623, 0.064, 0.0724, 0.0951, 0.1125, 0.1247, 0.1406, 0.1654, 0.2086, 0.2489, 0.2901, 0.4768, 0.3495, 0.5806, 0.4797, 0.4466, 0.4774, 0.472, 0.5616, 0.589, 0.6441, 0.7029, 0.7072, 0.7795, 0.7888, 0.8357]\n",
            "[0.0339, 0.0366, 0.0444, 0.0514, 0.0512, 0.0613, 0.0595, 0.0679, 0.0663, 0.0694, 0.0756, 0.0776, 0.0812, 0.1581, 0.112, 0.087, 0.1023, 0.0821, 0.1131, 0.0854, 0.1045, 0.1272, 0.1233, 0.1164, 0.1201, 0.1157, 0.1236, 0.129]\n",
            "['NA', 'NA', 'NA', 'NA', 'NA', 'NA', 'NA', 'NA', 'NA', 'NA', 'NA', 'NA', 'NA', 'NA', 'NA', 'NA', 'NA', 'NA', 'NA', 'NA', 'NA', 'NA', 'NA', 'NA', 'NA', 'NA', 'NA', 'NA']\n",
            "[0.0324, 0.07, 0.0623, 0.064, 0.0724, 0.0951, 0.1125, 0.1247, 0.1406, 0.1654, 0.2086, 0.2489, 0.2901, 0.4768, 0.3495, 0.5806, 2.266884, 2.803087, 2.824783, 2.924681, 1.382113, 4.549742, 4.252434, 4.24242, 6.983995, 6.278514, 1.38092, 5.93257]\n",
            "[0.024, 0.023, 0.04, 0.02, 0.017, 0.021, 1.434, 0.033, 0.036, 1.283, 0.073, 0.102, 0.173, 0.296, 0.221, 0.446, 0.47087669372558594, 0.46896934509277344, 0.408172607421875, 0.5314350128173828, 3.802776336669922, 3.304719924926758, 3.537893295288086, 3.9021968841552734, 5.714654922485352, 4.499673843383789, 6.846427917480469, 7.028818130493164]\n",
            "[0.021, 0.015, 0.014, 0.272, 0.018, 0.025, 0.155, 0.03, 0.118, 0.534, 0.06, 0.096, 0.199, 0.16, 0.563, 0.336, 0.715256, 0.446558, 0.492811, 0.460386, 2.257824, 2.816677, 1.724958, 1.312256, 2.301693, 3.388405, 2.398729, 2.792835]\n",
            "   Casos de Teste  Busca Sequencial  Ordenação  Busca Sequencial Ordenada  \\\n",
            "0         Caso 50            0.0808         NA                     0.1178   \n",
            "1        Caso 100            0.1750         NA                     0.2501   \n",
            "2        Caso 200            0.3245         NA                     0.3449   \n",
            "3        Caso 300            1.2528         NA                     0.5037   \n",
            "4        Caso 500            1.8302         NA                     0.8732   \n",
            "5        Caso 750            1.6829         NA                     1.3034   \n",
            "6       Caso 1000            1.7682         NA                     1.7761   \n",
            "7       Caso 1500            2.6260         NA                     2.6456   \n",
            "8       Caso 2000            4.6095         NA                     4.6223   \n",
            "9       Caso 3000            5.8830         NA                     5.9232   \n",
            "10      Caso 5000           10.7456         NA                    11.0139   \n",
            "11      Caso 7500           15.5978         NA                    15.9593   \n",
            "12     Caso 10000           20.2477         NA                    20.0006   \n",
            "13     Caso 12500           23.4579         NA                    25.4475   \n",
            "14     Caso 15000           30.3167         NA                    32.0006   \n",
            "15     Caso 20000           40.9713         NA                    41.0768   \n",
            "16     Caso 25000           42.9849         NA                    42.8900   \n",
            "17     Caso 30000           43.6077         NA                    44.2533   \n",
            "18     Caso 40000           43.6043         NA                    44.3015   \n",
            "19     Caso 50000           43.6768         NA                    44.1020   \n",
            "20     Caso 75000           45.3222         NA                    46.2188   \n",
            "21    Caso 100000           45.1671         NA                    47.6962   \n",
            "22    Caso 125000           36.3107         NA                    36.9223   \n",
            "23    Caso 150000           21.3481         NA                    22.0873   \n",
            "24    Caso 175000           35.3104         NA                    35.8732   \n",
            "25    Caso 200000           36.7217         NA                    36.5353   \n",
            "26    Caso 225000           36.6611         NA                    36.4511   \n",
            "27    Caso 250000           36.0162         NA                    36.6608   \n",
            "\n",
            "    Ordenação  Busca Jump  Ordenação  Busca Binária  Ordenação  \n",
            "0       0.032      0.0324      0.024         0.0339      0.021  \n",
            "1       0.070      0.0700      0.023         0.0366      0.015  \n",
            "2       0.062      0.0623      0.040         0.0444      0.014  \n",
            "3       0.064      0.0640      0.020         0.0514      0.272  \n",
            "4       0.072      0.0724      0.017         0.0512      0.018  \n",
            "5       0.095      0.0951      0.021         0.0613      0.025  \n",
            "6       0.113      0.1125      1.434         0.0595      0.155  \n",
            "7       0.125      0.1247      0.033         0.0679      0.030  \n",
            "8       0.141      0.1406      0.036         0.0663      0.118  \n",
            "9       0.165      0.1654      1.283         0.0694      0.534  \n",
            "10      0.209      0.2086      0.073         0.0756      0.060  \n",
            "11      0.249      0.2489      0.102         0.0776      0.096  \n",
            "12      0.290      0.2901      0.173         0.0812      0.199  \n",
            "13      0.477      0.4768      0.296         0.1581      0.160  \n",
            "14      0.349      0.3495      0.221         0.1120      0.563  \n",
            "15      0.581      0.5806      0.446         0.0870      0.336  \n",
            "16      2.267      0.4797      0.471         0.1023      0.715  \n",
            "17      2.803      0.4466      0.469         0.0821      0.447  \n",
            "18      2.825      0.4774      0.408         0.1131      0.493  \n",
            "19      2.925      0.4720      0.531         0.0854      0.460  \n",
            "20      1.382      0.5616      3.803         0.1045      2.258  \n",
            "21      4.550      0.5890      3.305         0.1272      2.817  \n",
            "22      4.252      0.6441      3.538         0.1233      1.725  \n",
            "23      4.242      0.7029      3.902         0.1164      1.312  \n",
            "24      6.984      0.7072      5.715         0.1201      2.302  \n",
            "25      6.279      0.7795      4.500         0.1157      3.388  \n",
            "26      1.381      0.7888      6.846         0.1236      2.399  \n",
            "27      5.933      0.8357      7.029         0.1290      2.793  \n",
            "\\begin{tabular}{lrlrrrrrr}\n",
            "\\toprule\n",
            "Casos de Teste &  Busca Sequencial &  Ordenação &  Busca Sequencial Ordenada &  Ordenação &  Busca Jump &  Ordenação &  Busca Binária &  Ordenação \\\\\n",
            "\\midrule\n",
            "       Caso 50 &            0.0808 &         NA &                     0.1178 &      0.032 &      0.0324 &      0.024 &         0.0339 &      0.021 \\\\\n",
            "      Caso 100 &            0.1750 &         NA &                     0.2501 &      0.070 &      0.0700 &      0.023 &         0.0366 &      0.015 \\\\\n",
            "      Caso 200 &            0.3245 &         NA &                     0.3449 &      0.062 &      0.0623 &      0.040 &         0.0444 &      0.014 \\\\\n",
            "      Caso 300 &            1.2528 &         NA &                     0.5037 &      0.064 &      0.0640 &      0.020 &         0.0514 &      0.272 \\\\\n",
            "      Caso 500 &            1.8302 &         NA &                     0.8732 &      0.072 &      0.0724 &      0.017 &         0.0512 &      0.018 \\\\\n",
            "      Caso 750 &            1.6829 &         NA &                     1.3034 &      0.095 &      0.0951 &      0.021 &         0.0613 &      0.025 \\\\\n",
            "     Caso 1000 &            1.7682 &         NA &                     1.7761 &      0.113 &      0.1125 &      1.434 &         0.0595 &      0.155 \\\\\n",
            "     Caso 1500 &            2.6260 &         NA &                     2.6456 &      0.125 &      0.1247 &      0.033 &         0.0679 &      0.030 \\\\\n",
            "     Caso 2000 &            4.6095 &         NA &                     4.6223 &      0.141 &      0.1406 &      0.036 &         0.0663 &      0.118 \\\\\n",
            "     Caso 3000 &            5.8830 &         NA &                     5.9232 &      0.165 &      0.1654 &      1.283 &         0.0694 &      0.534 \\\\\n",
            "     Caso 5000 &           10.7456 &         NA &                    11.0139 &      0.209 &      0.2086 &      0.073 &         0.0756 &      0.060 \\\\\n",
            "     Caso 7500 &           15.5978 &         NA &                    15.9593 &      0.249 &      0.2489 &      0.102 &         0.0776 &      0.096 \\\\\n",
            "    Caso 10000 &           20.2477 &         NA &                    20.0006 &      0.290 &      0.2901 &      0.173 &         0.0812 &      0.199 \\\\\n",
            "    Caso 12500 &           23.4579 &         NA &                    25.4475 &      0.477 &      0.4768 &      0.296 &         0.1581 &      0.160 \\\\\n",
            "    Caso 15000 &           30.3167 &         NA &                    32.0006 &      0.349 &      0.3495 &      0.221 &         0.1120 &      0.563 \\\\\n",
            "    Caso 20000 &           40.9713 &         NA &                    41.0768 &      0.581 &      0.5806 &      0.446 &         0.0870 &      0.336 \\\\\n",
            "    Caso 25000 &           42.9849 &         NA &                    42.8900 &      2.267 &      0.4797 &      0.471 &         0.1023 &      0.715 \\\\\n",
            "    Caso 30000 &           43.6077 &         NA &                    44.2533 &      2.803 &      0.4466 &      0.469 &         0.0821 &      0.447 \\\\\n",
            "    Caso 40000 &           43.6043 &         NA &                    44.3015 &      2.825 &      0.4774 &      0.408 &         0.1131 &      0.493 \\\\\n",
            "    Caso 50000 &           43.6768 &         NA &                    44.1020 &      2.925 &      0.4720 &      0.531 &         0.0854 &      0.460 \\\\\n",
            "    Caso 75000 &           45.3222 &         NA &                    46.2188 &      1.382 &      0.5616 &      3.803 &         0.1045 &      2.258 \\\\\n",
            "   Caso 100000 &           45.1671 &         NA &                    47.6962 &      4.550 &      0.5890 &      3.305 &         0.1272 &      2.817 \\\\\n",
            "   Caso 125000 &           36.3107 &         NA &                    36.9223 &      4.252 &      0.6441 &      3.538 &         0.1233 &      1.725 \\\\\n",
            "   Caso 150000 &           21.3481 &         NA &                    22.0873 &      4.242 &      0.7029 &      3.902 &         0.1164 &      1.312 \\\\\n",
            "   Caso 175000 &           35.3104 &         NA &                    35.8732 &      6.984 &      0.7072 &      5.715 &         0.1201 &      2.302 \\\\\n",
            "   Caso 200000 &           36.7217 &         NA &                    36.5353 &      6.279 &      0.7795 &      4.500 &         0.1157 &      3.388 \\\\\n",
            "   Caso 225000 &           36.6611 &         NA &                    36.4511 &      1.381 &      0.7888 &      6.846 &         0.1236 &      2.399 \\\\\n",
            "   Caso 250000 &           36.0162 &         NA &                    36.6608 &      5.933 &      0.8357 &      7.029 &         0.1290 &      2.793 \\\\\n",
            "\\bottomrule\n",
            "\\end{tabular}\n",
            "\n"
          ]
        },
        {
          "output_type": "stream",
          "name": "stderr",
          "text": [
            "<ipython-input-40-117fdfeafe48>:31: FutureWarning: In future versions `DataFrame.to_latex` is expected to utilise the base implementation of `Styler.to_latex` for formatting and rendering. The arguments signature may therefore change. It is recommended instead to use `DataFrame.style.to_latex` which also contains additional functionality.\n",
            "  tabela_latex = df.to_latex(index=False)\n"
          ]
        }
      ],
      "source": [
        "print(arrArq_copy)\n",
        "print(total_tempo_medio_seq)\n",
        "print(total_tempo_medio_SeqOrd)\n",
        "print(total_tempo_medio_buscaJump)\n",
        "print(total_tempo_medio_buscaBin)\n",
        "print(tempo_ordenacao_seq)\n",
        "print(tempo_ordenacao_seqord)\n",
        "print(tempo_ordenacao_jump)\n",
        "print(tempo_ordenacao_bin)\n",
        "\n",
        "\n",
        "geradorTabela_tempo(arrArq_copy,total_tempo_medio_seq,total_tempo_medio_SeqOrd,total_tempo_medio_buscaJump,total_tempo_medio_buscaBin,tempo_ordenacao_seq,tempo_ordenacao_seqord,tempo_ordenacao_jump,tempo_ordenacao_bin)"
      ]
    }
  ],
  "metadata": {
    "colab": {
      "provenance": [],
      "machine_shape": "hm",
      "mount_file_id": "1Db0grJYET_JJNqqqccdrlvMjk9uLVXaq",
      "authorship_tag": "ABX9TyNL5/FHflglNuiycPEcDolY",
      "include_colab_link": true
    },
    "kernelspec": {
      "display_name": "Python 3",
      "name": "python3"
    },
    "language_info": {
      "name": "python"
    }
  },
  "nbformat": 4,
  "nbformat_minor": 0
}